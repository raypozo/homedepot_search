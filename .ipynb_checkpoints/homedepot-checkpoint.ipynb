{
 "cells": [
  {
   "cell_type": "markdown",
   "metadata": {
    "collapsed": true
   },
   "source": [
    "# Home Depot Product Search Relevance"
   ]
  },
  {
   "cell_type": "markdown",
   "metadata": {},
   "source": [
    "### Overview:\n",
    "#### Home Depot Product Search is a competition available in Kaggle platform where the main objective is develop a model which can correctly predict the relevance of search results.  Relevance is an implicit measure Home Depot uses to gauge how quickly they can get customers to the right products.\n",
    "\n",
    "### Data Description:\n",
    "#### This data set contains a number of products and real customer search terms from Home Depot's website. Relevance terms for the training set have been labeled by human raters according for relevance. The challenge is to predict a relevance score for the provided combinations of search terms and products. \n",
    "#### The relevance is a number between 1 (not relevant) to 3 (highly relevant).\n",
    "\n",
    "### File Description:\n",
    "#### -train.csv - the training set, contains products, searches, and relevance scores\n",
    "#### -test.csv - the test set, contains products and searches. You must predict the relevance for these pairs.\n",
    "#### -product_descriptions.csv - contains a text description of each product. You may join this table to the training or test set via the product_uid.\n",
    "#### -attributes.csv -  provides extended information about a subset of the products (typically representing detailed technical specifications). Not every product will have attributes.\n",
    "#### -sample_submission.csv - a file showing the correct submission format\n",
    "#### -relevance_instructions.docx - the instructions provided to human raters\n",
    "\n",
    "### Data Fields:\n",
    "#### -id - a unique Id field which represents a (search_term, product_uid) pair\n",
    "#### -product_uid - an id for the products\n",
    "#### -product_title - the product title\n",
    "#### -product_description - the text description of the product (may contain HTML content)\n",
    "#### -search_term - the search query\n",
    "#### -relevance - the average of the relevance ratings for a given id\n",
    "#### -name - an attribute name\n",
    "#### -value - the attribute's value\n",
    "### *Reference: https://www.kaggle.com/c/home-depot-product-search-relevance"
   ]
  },
  {
   "cell_type": "markdown",
   "metadata": {},
   "source": [
    "## 1) Import Data\n",
    "Reading Train, Test, Attributes and Product_descriptions datasets as pandas dataframe for easier manipulation in feature engineering."
   ]
  },
  {
   "cell_type": "code",
   "execution_count": 5,
   "metadata": {},
   "outputs": [
    {
     "name": "stdout",
     "output_type": "stream",
     "text": [
      "Product Description\n"
     ]
    },
    {
     "data": {
      "text/html": [
       "<div>\n",
       "<table border=\"1\" class=\"dataframe\">\n",
       "  <thead>\n",
       "    <tr style=\"text-align: right;\">\n",
       "      <th></th>\n",
       "      <th>product_uid</th>\n",
       "      <th>product_description</th>\n",
       "    </tr>\n",
       "  </thead>\n",
       "  <tbody>\n",
       "    <tr>\n",
       "      <th>0</th>\n",
       "      <td>100001</td>\n",
       "      <td>Not only do angles make joints stronger, they ...</td>\n",
       "    </tr>\n",
       "    <tr>\n",
       "      <th>1</th>\n",
       "      <td>100002</td>\n",
       "      <td>BEHR Premium Textured DECKOVER is an innovativ...</td>\n",
       "    </tr>\n",
       "    <tr>\n",
       "      <th>2</th>\n",
       "      <td>100003</td>\n",
       "      <td>Classic architecture meets contemporary design...</td>\n",
       "    </tr>\n",
       "    <tr>\n",
       "      <th>3</th>\n",
       "      <td>100004</td>\n",
       "      <td>The Grape Solar 265-Watt Polycrystalline PV So...</td>\n",
       "    </tr>\n",
       "    <tr>\n",
       "      <th>4</th>\n",
       "      <td>100005</td>\n",
       "      <td>Update your bathroom with the Delta Vero Singl...</td>\n",
       "    </tr>\n",
       "  </tbody>\n",
       "</table>\n",
       "</div>"
      ],
      "text/plain": [
       "   product_uid                                product_description\n",
       "0       100001  Not only do angles make joints stronger, they ...\n",
       "1       100002  BEHR Premium Textured DECKOVER is an innovativ...\n",
       "2       100003  Classic architecture meets contemporary design...\n",
       "3       100004  The Grape Solar 265-Watt Polycrystalline PV So...\n",
       "4       100005  Update your bathroom with the Delta Vero Singl..."
      ]
     },
     "execution_count": 5,
     "metadata": {},
     "output_type": "execute_result"
    }
   ],
   "source": [
    "\n",
    "from io import StringIO\n",
    "import requests\n",
    "import json\n",
    "import pandas as pd\n",
    "\n",
    "# @hidden_cell\n",
    "# This function accesses a file in your Object Storage. The definition contains your credentials.\n",
    "# You might want to remove those credentials before you share your notebook.\n",
    "def get_object_storage_file_with_credentials_ec2b80856a8f45c0a8bf15fec854899f(container, filename):\n",
    "    \"\"\"This functions returns a StringIO object containing\n",
    "    the file content from Bluemix Object Storage.\"\"\"\n",
    "\n",
    "    url1 = ''.join(['https://identity.open.softlayer.com', '/v3/auth/tokens'])\n",
    "    data = {'auth': {'identity': {'methods': ['password'],\n",
    "            'password': {'user': {'name': 'member_aa4e02bf601faced8fd9a3ebdfd364ce6eb99957','domain': {'id': '95b7b2aa58df46939718cd7cd212f6ce'},\n",
    "            'password': 'w1FqTuX/O8!?rfn}'}}}}}\n",
    "    headers1 = {'Content-Type': 'application/json'}\n",
    "    resp1 = requests.post(url=url1, data=json.dumps(data), headers=headers1)\n",
    "    resp1_body = resp1.json()\n",
    "    for e1 in resp1_body['token']['catalog']:\n",
    "        if(e1['type']=='object-store'):\n",
    "            for e2 in e1['endpoints']:\n",
    "                        if(e2['interface']=='public'and e2['region']=='dallas'):\n",
    "                            url2 = ''.join([e2['url'],'/', container, '/', filename])\n",
    "    s_subject_token = resp1.headers['x-subject-token']\n",
    "    headers2 = {'X-Auth-Token': s_subject_token, 'accept': 'application/json'}\n",
    "    resp2 = requests.get(url=url2, headers=headers2)\n",
    "    return StringIO(resp2.text)\n",
    "\n",
    "df_product = pd.read_csv(get_object_storage_file_with_credentials_ec2b80856a8f45c0a8bf15fec854899f('FinalExamrpozo', 'product_descriptions.csv'))\n",
    "print(\"Product Description\")\n",
    "df_product.head()\n"
   ]
  },
  {
   "cell_type": "code",
   "execution_count": 6,
   "metadata": {},
   "outputs": [
    {
     "name": "stdout",
     "output_type": "stream",
     "text": [
      "Attributes\n"
     ]
    },
    {
     "data": {
      "text/html": [
       "<div>\n",
       "<table border=\"1\" class=\"dataframe\">\n",
       "  <thead>\n",
       "    <tr style=\"text-align: right;\">\n",
       "      <th></th>\n",
       "      <th>product_uid</th>\n",
       "      <th>name</th>\n",
       "      <th>value</th>\n",
       "    </tr>\n",
       "  </thead>\n",
       "  <tbody>\n",
       "    <tr>\n",
       "      <th>0</th>\n",
       "      <td>100001</td>\n",
       "      <td>Bullet01</td>\n",
       "      <td>Versatile connector for various 90° connection...</td>\n",
       "    </tr>\n",
       "    <tr>\n",
       "      <th>1</th>\n",
       "      <td>100001</td>\n",
       "      <td>Bullet02</td>\n",
       "      <td>Stronger than angled nailing or screw fastenin...</td>\n",
       "    </tr>\n",
       "    <tr>\n",
       "      <th>2</th>\n",
       "      <td>100001</td>\n",
       "      <td>Bullet03</td>\n",
       "      <td>Help ensure joints are consistently straight a...</td>\n",
       "    </tr>\n",
       "    <tr>\n",
       "      <th>3</th>\n",
       "      <td>100001</td>\n",
       "      <td>Bullet04</td>\n",
       "      <td>Dimensions: 3 in. x 3 in. x 1-1/2 in.</td>\n",
       "    </tr>\n",
       "    <tr>\n",
       "      <th>4</th>\n",
       "      <td>100001</td>\n",
       "      <td>Bullet05</td>\n",
       "      <td>Made from 12-Gauge steel</td>\n",
       "    </tr>\n",
       "  </tbody>\n",
       "</table>\n",
       "</div>"
      ],
      "text/plain": [
       "   product_uid      name                                              value\n",
       "0       100001  Bullet01  Versatile connector for various 90° connection...\n",
       "1       100001  Bullet02  Stronger than angled nailing or screw fastenin...\n",
       "2       100001  Bullet03  Help ensure joints are consistently straight a...\n",
       "3       100001  Bullet04              Dimensions: 3 in. x 3 in. x 1-1/2 in.\n",
       "4       100001  Bullet05                           Made from 12-Gauge steel"
      ]
     },
     "execution_count": 6,
     "metadata": {},
     "output_type": "execute_result"
    }
   ],
   "source": [
    "\n",
    "df_attributes = pd.read_csv(get_object_storage_file_with_credentials_ec2b80856a8f45c0a8bf15fec854899f('FinalExamrpozo', 'attributes.csv'))\n",
    "print(\"Attributes\")\n",
    "df_attributes.head()\n"
   ]
  },
  {
   "cell_type": "code",
   "execution_count": 7,
   "metadata": {},
   "outputs": [
    {
     "name": "stdout",
     "output_type": "stream",
     "text": [
      "Train Data\n"
     ]
    },
    {
     "data": {
      "text/html": [
       "<div>\n",
       "<table border=\"1\" class=\"dataframe\">\n",
       "  <thead>\n",
       "    <tr style=\"text-align: right;\">\n",
       "      <th></th>\n",
       "      <th>id</th>\n",
       "      <th>product_uid</th>\n",
       "      <th>product_title</th>\n",
       "      <th>search_term</th>\n",
       "      <th>relevance</th>\n",
       "    </tr>\n",
       "  </thead>\n",
       "  <tbody>\n",
       "    <tr>\n",
       "      <th>0</th>\n",
       "      <td>2</td>\n",
       "      <td>100001</td>\n",
       "      <td>Simpson Strong-Tie 12-Gauge Angle</td>\n",
       "      <td>angle bracket</td>\n",
       "      <td>3.00</td>\n",
       "    </tr>\n",
       "    <tr>\n",
       "      <th>1</th>\n",
       "      <td>3</td>\n",
       "      <td>100001</td>\n",
       "      <td>Simpson Strong-Tie 12-Gauge Angle</td>\n",
       "      <td>l bracket</td>\n",
       "      <td>2.50</td>\n",
       "    </tr>\n",
       "    <tr>\n",
       "      <th>2</th>\n",
       "      <td>9</td>\n",
       "      <td>100002</td>\n",
       "      <td>BEHR Premium Textured DeckOver 1-gal. #SC-141 ...</td>\n",
       "      <td>deck over</td>\n",
       "      <td>3.00</td>\n",
       "    </tr>\n",
       "    <tr>\n",
       "      <th>3</th>\n",
       "      <td>16</td>\n",
       "      <td>100005</td>\n",
       "      <td>Delta Vero 1-Handle Shower Only Faucet Trim Ki...</td>\n",
       "      <td>rain shower head</td>\n",
       "      <td>2.33</td>\n",
       "    </tr>\n",
       "    <tr>\n",
       "      <th>4</th>\n",
       "      <td>17</td>\n",
       "      <td>100005</td>\n",
       "      <td>Delta Vero 1-Handle Shower Only Faucet Trim Ki...</td>\n",
       "      <td>shower only faucet</td>\n",
       "      <td>2.67</td>\n",
       "    </tr>\n",
       "  </tbody>\n",
       "</table>\n",
       "</div>"
      ],
      "text/plain": [
       "   id  product_uid                                      product_title  \\\n",
       "0   2       100001                  Simpson Strong-Tie 12-Gauge Angle   \n",
       "1   3       100001                  Simpson Strong-Tie 12-Gauge Angle   \n",
       "2   9       100002  BEHR Premium Textured DeckOver 1-gal. #SC-141 ...   \n",
       "3  16       100005  Delta Vero 1-Handle Shower Only Faucet Trim Ki...   \n",
       "4  17       100005  Delta Vero 1-Handle Shower Only Faucet Trim Ki...   \n",
       "\n",
       "          search_term  relevance  \n",
       "0       angle bracket       3.00  \n",
       "1           l bracket       2.50  \n",
       "2           deck over       3.00  \n",
       "3    rain shower head       2.33  \n",
       "4  shower only faucet       2.67  "
      ]
     },
     "execution_count": 7,
     "metadata": {},
     "output_type": "execute_result"
    }
   ],
   "source": [
    "\n",
    "df_train = pd.read_csv(get_object_storage_file_with_credentials_ec2b80856a8f45c0a8bf15fec854899f('FinalExamrpozo', 'train.csv'))\n",
    "print(\"Train Data\")\n",
    "df_train.head()\n"
   ]
  },
  {
   "cell_type": "code",
   "execution_count": 8,
   "metadata": {},
   "outputs": [
    {
     "name": "stdout",
     "output_type": "stream",
     "text": [
      "Test Data\n"
     ]
    },
    {
     "data": {
      "text/html": [
       "<div>\n",
       "<table border=\"1\" class=\"dataframe\">\n",
       "  <thead>\n",
       "    <tr style=\"text-align: right;\">\n",
       "      <th></th>\n",
       "      <th>id</th>\n",
       "      <th>product_uid</th>\n",
       "      <th>product_title</th>\n",
       "      <th>search_term</th>\n",
       "    </tr>\n",
       "  </thead>\n",
       "  <tbody>\n",
       "    <tr>\n",
       "      <th>0</th>\n",
       "      <td>1</td>\n",
       "      <td>100001</td>\n",
       "      <td>Simpson Strong-Tie 12-Gauge Angle</td>\n",
       "      <td>90 degree bracket</td>\n",
       "    </tr>\n",
       "    <tr>\n",
       "      <th>1</th>\n",
       "      <td>4</td>\n",
       "      <td>100001</td>\n",
       "      <td>Simpson Strong-Tie 12-Gauge Angle</td>\n",
       "      <td>metal l brackets</td>\n",
       "    </tr>\n",
       "    <tr>\n",
       "      <th>2</th>\n",
       "      <td>5</td>\n",
       "      <td>100001</td>\n",
       "      <td>Simpson Strong-Tie 12-Gauge Angle</td>\n",
       "      <td>simpson sku able</td>\n",
       "    </tr>\n",
       "    <tr>\n",
       "      <th>3</th>\n",
       "      <td>6</td>\n",
       "      <td>100001</td>\n",
       "      <td>Simpson Strong-Tie 12-Gauge Angle</td>\n",
       "      <td>simpson strong  ties</td>\n",
       "    </tr>\n",
       "    <tr>\n",
       "      <th>4</th>\n",
       "      <td>7</td>\n",
       "      <td>100001</td>\n",
       "      <td>Simpson Strong-Tie 12-Gauge Angle</td>\n",
       "      <td>simpson strong tie hcc668</td>\n",
       "    </tr>\n",
       "  </tbody>\n",
       "</table>\n",
       "</div>"
      ],
      "text/plain": [
       "   id  product_uid                      product_title  \\\n",
       "0   1       100001  Simpson Strong-Tie 12-Gauge Angle   \n",
       "1   4       100001  Simpson Strong-Tie 12-Gauge Angle   \n",
       "2   5       100001  Simpson Strong-Tie 12-Gauge Angle   \n",
       "3   6       100001  Simpson Strong-Tie 12-Gauge Angle   \n",
       "4   7       100001  Simpson Strong-Tie 12-Gauge Angle   \n",
       "\n",
       "                 search_term  \n",
       "0          90 degree bracket  \n",
       "1           metal l brackets  \n",
       "2           simpson sku able  \n",
       "3       simpson strong  ties  \n",
       "4  simpson strong tie hcc668  "
      ]
     },
     "execution_count": 8,
     "metadata": {},
     "output_type": "execute_result"
    }
   ],
   "source": [
    "\n",
    "df_test = pd.read_csv(get_object_storage_file_with_credentials_ec2b80856a8f45c0a8bf15fec854899f('FinalExamrpozo', 'test.csv'))\n",
    "print(\"Test Data\")\n",
    "df_test.head()\n"
   ]
  },
  {
   "cell_type": "markdown",
   "metadata": {},
   "source": [
    "## 2) Data Analysis\n",
    "We can plot some of the important information of the different datasets to visualize and understand better the information we are managing. \n",
    "Here we can graphically understand that one of the important challenge this dataset has is that the training data sample is smaller in size than the test data. This can derive in a underfitting problem while we develop the model.\n",
    "Another interesting point we can visualize is that almost half of the data in the training set have duplicate product assignment."
   ]
  },
  {
   "cell_type": "code",
   "execution_count": 9,
   "metadata": {},
   "outputs": [
    {
     "data": {
      "image/png": "[encoded data removed]",
      "text/plain": [
       "<matplotlib.figure.Figure at 0x7f5c10addf90>"
      ]
     },
     "metadata": {},
     "output_type": "display_data"
    },
    {
     "data": {
      "image/png": "[encoded data removed]",
      "text/plain": [
       "<matplotlib.figure.Figure at 0x7f5c10ac98d0>"
      ]
     },
     "metadata": {},
     "output_type": "display_data"
    },
    {
     "data": {
      "image/png": "[encoded data removed]",
      "text/plain": [
       "<matplotlib.figure.Figure at 0x7f5bf91d3790>"
      ]
     },
     "metadata": {},
     "output_type": "display_data"
    }
   ],
   "source": [
    "%matplotlib inline\n",
    "from matplotlib_venn import venn2\n",
    "from matplotlib import pyplot as plt\n",
    "train_len=len(df_train)\n",
    "test_len=len(df_test)\n",
    "v=venn2(subsets={'10':train_len,'01':test_len},set_labels=('Train Set','Test Set'))\n",
    "plt.show()\n",
    "train_dup=len(df_train[df_train['product_uid'].duplicated(keep=False)])\n",
    "v1=venn2(subsets={'01':train_len,'11':train_dup},set_labels=('Duplicated','Train Set'))\n",
    "plt.show()\n",
    "test_dup=len(df_test[df_test['product_uid'].duplicated(keep=False)])\n",
    "v2=venn2(subsets={'01':test_len,'11':test_dup},set_labels=('Duplicated','Test Set'))\n",
    "v2.get_patch_by_id('01').set_color('#993333')\n",
    "plt.show()"
   ]
  },
  {
   "cell_type": "markdown",
   "metadata": {},
   "source": [
    "## 3) Data Pre-Procesing\n",
    "### 3.1 Datasets to lowercase\n",
    "Transform Train, Test, Attributes and Product description datasets content all into lowercase strings. \n",
    "This will simplify the matching process."
   ]
  },
  {
   "cell_type": "code",
   "execution_count": 10,
   "metadata": {},
   "outputs": [
    {
     "data": {
      "text/html": [
       "<div>\n",
       "<table border=\"1\" class=\"dataframe\">\n",
       "  <thead>\n",
       "    <tr style=\"text-align: right;\">\n",
       "      <th></th>\n",
       "      <th>id</th>\n",
       "      <th>product_uid</th>\n",
       "      <th>product_title</th>\n",
       "      <th>search_term</th>\n",
       "      <th>relevance</th>\n",
       "    </tr>\n",
       "  </thead>\n",
       "  <tbody>\n",
       "    <tr>\n",
       "      <th>0</th>\n",
       "      <td>2</td>\n",
       "      <td>100001</td>\n",
       "      <td>simpson strong-tie 12-gauge angle</td>\n",
       "      <td>angle bracket</td>\n",
       "      <td>3.00</td>\n",
       "    </tr>\n",
       "    <tr>\n",
       "      <th>1</th>\n",
       "      <td>3</td>\n",
       "      <td>100001</td>\n",
       "      <td>simpson strong-tie 12-gauge angle</td>\n",
       "      <td>l bracket</td>\n",
       "      <td>2.50</td>\n",
       "    </tr>\n",
       "    <tr>\n",
       "      <th>2</th>\n",
       "      <td>9</td>\n",
       "      <td>100002</td>\n",
       "      <td>behr premium textured deckover 1-gal. #sc-141 ...</td>\n",
       "      <td>deck over</td>\n",
       "      <td>3.00</td>\n",
       "    </tr>\n",
       "    <tr>\n",
       "      <th>3</th>\n",
       "      <td>16</td>\n",
       "      <td>100005</td>\n",
       "      <td>delta vero 1-handle shower only faucet trim ki...</td>\n",
       "      <td>rain shower head</td>\n",
       "      <td>2.33</td>\n",
       "    </tr>\n",
       "    <tr>\n",
       "      <th>4</th>\n",
       "      <td>17</td>\n",
       "      <td>100005</td>\n",
       "      <td>delta vero 1-handle shower only faucet trim ki...</td>\n",
       "      <td>shower only faucet</td>\n",
       "      <td>2.67</td>\n",
       "    </tr>\n",
       "  </tbody>\n",
       "</table>\n",
       "</div>"
      ],
      "text/plain": [
       "   id product_uid                                      product_title  \\\n",
       "0   2      100001                  simpson strong-tie 12-gauge angle   \n",
       "1   3      100001                  simpson strong-tie 12-gauge angle   \n",
       "2   9      100002  behr premium textured deckover 1-gal. #sc-141 ...   \n",
       "3  16      100005  delta vero 1-handle shower only faucet trim ki...   \n",
       "4  17      100005  delta vero 1-handle shower only faucet trim ki...   \n",
       "\n",
       "          search_term  relevance  \n",
       "0       angle bracket       3.00  \n",
       "1           l bracket       2.50  \n",
       "2           deck over       3.00  \n",
       "3    rain shower head       2.33  \n",
       "4  shower only faucet       2.67  "
      ]
     },
     "execution_count": 10,
     "metadata": {},
     "output_type": "execute_result"
    }
   ],
   "source": [
    "# Product dataset:\n",
    "df_product=df_product.apply(lambda x: x.astype(str).str.lower())\n",
    "#df_product['product_uid'] = pd.to_numeric(df_product['product_uid'])\n",
    "\n",
    "# Attributes dataset:\n",
    "df_attributes=df_attributes.apply(lambda x: x.astype(str).str.lower())\n",
    "df_attributes['product_uid'] = df_attributes['product_uid'].apply(lambda x: x.split('.')[0])\n",
    "\n",
    "# Training dataset:\n",
    "df_train=df_train.apply(lambda x: x.astype(str).str.lower())\n",
    "df_train['id'] = pd.to_numeric(df_train['id'])\n",
    "#df_train['product_uid'] = pd.to_numeric(df_train['product_uid'])\n",
    "df_train['relevance'] = pd.to_numeric(df_train['relevance'])\n",
    "\n",
    "# Test dataset:\n",
    "df_test=df_test.apply(lambda x: x.astype(str).str.lower())\n",
    "df_test['id'] = pd.to_numeric(df_test['id'])\n",
    "#df_test['product_uid'] = pd.to_numeric(df_test['product_uid'])\n",
    "\n",
    "# Note: Code review from: http://stackoverflow.com/questions/39512002/convert-whole-dataframe-from-lower-case-to-upper-case-with-pandas\n",
    "df_train.head()"
   ]
  },
  {
   "cell_type": "markdown",
   "metadata": {},
   "source": [
    "### 3.2 Brand name extraction\n",
    "A very useful detail that we can extract from the attributes dataset is the brand of the item."
   ]
  },
  {
   "cell_type": "code",
   "execution_count": 11,
   "metadata": {},
   "outputs": [
    {
     "data": {
      "text/html": [
       "<div>\n",
       "<table border=\"1\" class=\"dataframe\">\n",
       "  <thead>\n",
       "    <tr style=\"text-align: right;\">\n",
       "      <th></th>\n",
       "      <th>product_uid</th>\n",
       "      <th>name</th>\n",
       "      <th>value</th>\n",
       "    </tr>\n",
       "  </thead>\n",
       "  <tbody>\n",
       "    <tr>\n",
       "      <th>9</th>\n",
       "      <td>100001</td>\n",
       "      <td>mfg brand name</td>\n",
       "      <td>simpson strong-tie</td>\n",
       "    </tr>\n",
       "    <tr>\n",
       "      <th>37</th>\n",
       "      <td>100002</td>\n",
       "      <td>mfg brand name</td>\n",
       "      <td>behr premium textured deckover</td>\n",
       "    </tr>\n",
       "    <tr>\n",
       "      <th>69</th>\n",
       "      <td>100003</td>\n",
       "      <td>mfg brand name</td>\n",
       "      <td>sterling</td>\n",
       "    </tr>\n",
       "    <tr>\n",
       "      <th>93</th>\n",
       "      <td>100004</td>\n",
       "      <td>mfg brand name</td>\n",
       "      <td>grape solar</td>\n",
       "    </tr>\n",
       "    <tr>\n",
       "      <th>122</th>\n",
       "      <td>100005</td>\n",
       "      <td>mfg brand name</td>\n",
       "      <td>delta</td>\n",
       "    </tr>\n",
       "  </tbody>\n",
       "</table>\n",
       "</div>"
      ],
      "text/plain": [
       "    product_uid            name                           value\n",
       "9        100001  mfg brand name              simpson strong-tie\n",
       "37       100002  mfg brand name  behr premium textured deckover\n",
       "69       100003  mfg brand name                        sterling\n",
       "93       100004  mfg brand name                     grape solar\n",
       "122      100005  mfg brand name                           delta"
      ]
     },
     "execution_count": 11,
     "metadata": {},
     "output_type": "execute_result"
    }
   ],
   "source": [
    "df_brand=df_attributes[df_attributes['name'].str.contains(\"brand\")]\n",
    "df_brand.head()"
   ]
  },
  {
   "cell_type": "markdown",
   "metadata": {},
   "source": [
    "### 3.3 Color of the product extraction  "
   ]
  },
  {
   "cell_type": "code",
   "execution_count": 12,
   "metadata": {},
   "outputs": [
    {
     "data": {
      "text/html": [
       "<div>\n",
       "<table border=\"1\" class=\"dataframe\">\n",
       "  <thead>\n",
       "    <tr style=\"text-align: right;\">\n",
       "      <th></th>\n",
       "      <th>product_uid</th>\n",
       "      <th>name</th>\n",
       "      <th>value</th>\n",
       "    </tr>\n",
       "  </thead>\n",
       "  <tbody>\n",
       "    <tr>\n",
       "      <th>30</th>\n",
       "      <td>100002</td>\n",
       "      <td>color family</td>\n",
       "      <td>browns / tans</td>\n",
       "    </tr>\n",
       "    <tr>\n",
       "      <th>31</th>\n",
       "      <td>100002</td>\n",
       "      <td>color/finish</td>\n",
       "      <td>tugboat</td>\n",
       "    </tr>\n",
       "    <tr>\n",
       "      <th>58</th>\n",
       "      <td>100003</td>\n",
       "      <td>color family</td>\n",
       "      <td>white</td>\n",
       "    </tr>\n",
       "    <tr>\n",
       "      <th>59</th>\n",
       "      <td>100003</td>\n",
       "      <td>color/finish</td>\n",
       "      <td>white</td>\n",
       "    </tr>\n",
       "    <tr>\n",
       "      <th>114</th>\n",
       "      <td>100005</td>\n",
       "      <td>color family</td>\n",
       "      <td>chrome</td>\n",
       "    </tr>\n",
       "  </tbody>\n",
       "</table>\n",
       "</div>"
      ],
      "text/plain": [
       "    product_uid          name          value\n",
       "30       100002  color family  browns / tans\n",
       "31       100002  color/finish        tugboat\n",
       "58       100003  color family          white\n",
       "59       100003  color/finish          white\n",
       "114      100005  color family         chrome"
      ]
     },
     "execution_count": 12,
     "metadata": {},
     "output_type": "execute_result"
    }
   ],
   "source": [
    "df_color=df_attributes[df_attributes['name'].str.contains(\"color\")]\n",
    "df_color.head()"
   ]
  },
  {
   "cell_type": "markdown",
   "metadata": {},
   "source": [
    "### 3.4 Word Count in Product Description\n",
    "\n",
    "For our quest to find relevant products for the search field, we can start by finding which are the most used words in the products description. For this we need to split the product description for each item and use a counter function to retrieve this information. An extra dataframe is created with the structure: Product_uid, Word, Count. Like this we can have easy access to the count words for each item. "
   ]
  },
  {
   "cell_type": "code",
   "execution_count": 14,
   "metadata": {},
   "outputs": [
    {
     "data": {
      "text/html": [
       "<div>\n",
       "<table border=\"1\" class=\"dataframe\">\n",
       "  <thead>\n",
       "    <tr style=\"text-align: right;\">\n",
       "      <th></th>\n",
       "      <th>product_uid</th>\n",
       "      <th>word</th>\n",
       "      <th>count</th>\n",
       "    </tr>\n",
       "  </thead>\n",
       "  <tbody>\n",
       "    <tr>\n",
       "      <th>0</th>\n",
       "      <td>100001</td>\n",
       "      <td>project.</td>\n",
       "      <td>1</td>\n",
       "    </tr>\n",
       "    <tr>\n",
       "      <th>1</th>\n",
       "      <td>100001</td>\n",
       "      <td>zmax</td>\n",
       "      <td>1</td>\n",
       "    </tr>\n",
       "    <tr>\n",
       "      <th>2</th>\n",
       "      <td>100001</td>\n",
       "      <td>resistanceinstall</td>\n",
       "      <td>1</td>\n",
       "    </tr>\n",
       "    <tr>\n",
       "      <th>3</th>\n",
       "      <td>100001</td>\n",
       "      <td>resistance</td>\n",
       "      <td>1</td>\n",
       "    </tr>\n",
       "    <tr>\n",
       "      <th>4</th>\n",
       "      <td>100001</td>\n",
       "      <td>projectsstronger</td>\n",
       "      <td>1</td>\n",
       "    </tr>\n",
       "  </tbody>\n",
       "</table>\n",
       "</div>"
      ],
      "text/plain": [
       "  product_uid               word  count\n",
       "0      100001           project.      1\n",
       "1      100001               zmax      1\n",
       "2      100001  resistanceinstall      1\n",
       "3      100001         resistance      1\n",
       "4      100001   projectsstronger      1"
      ]
     },
     "execution_count": 14,
     "metadata": {},
     "output_type": "execute_result"
    }
   ],
   "source": [
    "from collections import Counter\n",
    "i=0\n",
    "wordlist=[[\"product_uid\",\"word\",\"count\"]]\n",
    "while i<10:\n",
    "    description=df_product.ix[i,1]\n",
    "    wordcount=Counter(description.split(\" \")).items()\n",
    "    for word in wordcount:\n",
    "        x=[df_product.ix[i,0],word[0],word[1]]\n",
    "        wordlist.append(x)\n",
    "    i+=1\n",
    "header=wordlist.pop(0) \n",
    "#print(wordlist)\n",
    "df_prod_wordcount = pd.DataFrame(wordlist, columns=header)\n",
    "df_prod_wordcount.head()"
   ]
  },
  {
   "cell_type": "code",
   "execution_count": 15,
   "metadata": {},
   "outputs": [
    {
     "data": {
      "text/html": [
       "<div>\n",
       "<table border=\"1\" class=\"dataframe\">\n",
       "  <thead>\n",
       "    <tr style=\"text-align: right;\">\n",
       "      <th></th>\n",
       "      <th>product_uid</th>\n",
       "      <th>word</th>\n",
       "      <th>count</th>\n",
       "    </tr>\n",
       "  </thead>\n",
       "  <tbody>\n",
       "    <tr>\n",
       "      <th>0</th>\n",
       "      <td>100001</td>\n",
       "      <td>and</td>\n",
       "      <td>1</td>\n",
       "    </tr>\n",
       "    <tr>\n",
       "      <th>1</th>\n",
       "      <td>100001</td>\n",
       "      <td>connections</td>\n",
       "      <td>1</td>\n",
       "    </tr>\n",
       "    <tr>\n",
       "      <th>2</th>\n",
       "      <td>100001</td>\n",
       "      <td>for</td>\n",
       "      <td>1</td>\n",
       "    </tr>\n",
       "    <tr>\n",
       "      <th>3</th>\n",
       "      <td>100001</td>\n",
       "      <td>repair</td>\n",
       "      <td>1</td>\n",
       "    </tr>\n",
       "    <tr>\n",
       "      <th>4</th>\n",
       "      <td>100001</td>\n",
       "      <td>90°</td>\n",
       "      <td>1</td>\n",
       "    </tr>\n",
       "  </tbody>\n",
       "</table>\n",
       "</div>"
      ],
      "text/plain": [
       "  product_uid         word  count\n",
       "0      100001          and      1\n",
       "1      100001  connections      1\n",
       "2      100001          for      1\n",
       "3      100001       repair      1\n",
       "4      100001          90°      1"
      ]
     },
     "execution_count": 15,
     "metadata": {},
     "output_type": "execute_result"
    }
   ],
   "source": [
    "i=0\n",
    "wordlist=[[\"product_uid\",\"word\",\"count\"]]\n",
    "while i<10:\n",
    "    description=df_attributes.ix[i,2]\n",
    "    wordcount=Counter(description.split(\" \")).items()\n",
    "    for word in wordcount:\n",
    "        x=[df_attributes.ix[i,0],word[0],word[1]]\n",
    "        wordlist.append(x)\n",
    "    i+=1\n",
    "header=wordlist.pop(0) \n",
    "df_attr_wordcount = pd.DataFrame(wordlist, columns=header)\n",
    "df_attr_wordcount.head()"
   ]
  },
  {
   "cell_type": "markdown",
   "metadata": {},
   "source": [
    "### 3.5 Noun extraction\n",
    "For a stronger connection between the search terms we can extract usefull information by separating the nouns in the description from the other words. This is usefull as in most of cases users use nouns to define the products they want to search. In this way we can filter usefull information.\n",
    "For the noun extraction the nltk library is used.\n",
    "A new column for the product dataframe is added, which contains all the nouns found in each description"
   ]
  },
  {
   "cell_type": "code",
   "execution_count": 16,
   "metadata": {},
   "outputs": [
    {
     "data": {
      "text/html": [
       "<div>\n",
       "<table border=\"1\" class=\"dataframe\">\n",
       "  <thead>\n",
       "    <tr style=\"text-align: right;\">\n",
       "      <th></th>\n",
       "      <th>product_uid</th>\n",
       "      <th>product_description</th>\n",
       "      <th>Nouns</th>\n",
       "    </tr>\n",
       "  </thead>\n",
       "  <tbody>\n",
       "    <tr>\n",
       "      <th>0</th>\n",
       "      <td>100001</td>\n",
       "      <td>not only do angles make joints stronger, they ...</td>\n",
       "      <td>angles, joints, corners, simpson, variety, ang...</td>\n",
       "    </tr>\n",
       "    <tr>\n",
       "      <th>1</th>\n",
       "      <td>100002</td>\n",
       "      <td>behr premium textured deckover is an innovativ...</td>\n",
       "      <td>behr, premium, deckover, color, coating, wood,...</td>\n",
       "    </tr>\n",
       "    <tr>\n",
       "      <th>2</th>\n",
       "      <td>100003</td>\n",
       "      <td>classic architecture meets contemporary design...</td>\n",
       "      <td>architecture, meets, design, curve, series, vi...</td>\n",
       "    </tr>\n",
       "    <tr>\n",
       "      <th>3</th>\n",
       "      <td>100004</td>\n",
       "      <td>the grape solar 265-watt polycrystalline pv so...</td>\n",
       "      <td>grape, polycrystalline, pv, panel, bonus, pack...</td>\n",
       "    </tr>\n",
       "    <tr>\n",
       "      <th>4</th>\n",
       "      <td>100005</td>\n",
       "      <td>update your bathroom with the delta vero singl...</td>\n",
       "      <td>bathroom, delta, vero, shower, faucet, kit, ch...</td>\n",
       "    </tr>\n",
       "  </tbody>\n",
       "</table>\n",
       "</div>"
      ],
      "text/plain": [
       "  product_uid                                product_description  \\\n",
       "0      100001  not only do angles make joints stronger, they ...   \n",
       "1      100002  behr premium textured deckover is an innovativ...   \n",
       "2      100003  classic architecture meets contemporary design...   \n",
       "3      100004  the grape solar 265-watt polycrystalline pv so...   \n",
       "4      100005  update your bathroom with the delta vero singl...   \n",
       "\n",
       "                                               Nouns  \n",
       "0  angles, joints, corners, simpson, variety, ang...  \n",
       "1  behr, premium, deckover, color, coating, wood,...  \n",
       "2  architecture, meets, design, curve, series, vi...  \n",
       "3  grape, polycrystalline, pv, panel, bonus, pack...  \n",
       "4  bathroom, delta, vero, shower, faucet, kit, ch...  "
      ]
     },
     "execution_count": 16,
     "metadata": {},
     "output_type": "execute_result"
    }
   ],
   "source": [
    "import nltk\n",
    "i=0\n",
    "df_product[\"Nouns\"]=\"\"\n",
    "while i<10:\n",
    "    nouns=\"\"\n",
    "    description=df_product.ix[i,1]\n",
    "    token = nltk.word_tokenize(description)\n",
    "    pos = nltk.pos_tag(token)\n",
    "    j=0\n",
    "    while j<len(pos):\n",
    "        if (pos[j][1][0] == 'N')== True:\n",
    "            nouns+=pos[j][0]+\", \"\n",
    "        j+=1\n",
    "    df_product.ix[i,2]=nouns\n",
    "    i+=1\n",
    "df_product.head()"
   ]
  },
  {
   "cell_type": "code",
   "execution_count": 17,
   "metadata": {},
   "outputs": [
    {
     "data": {
      "text/html": [
       "<div>\n",
       "<table border=\"1\" class=\"dataframe\">\n",
       "  <thead>\n",
       "    <tr style=\"text-align: right;\">\n",
       "      <th></th>\n",
       "      <th>product_uid</th>\n",
       "      <th>name</th>\n",
       "      <th>value</th>\n",
       "      <th>Nouns</th>\n",
       "    </tr>\n",
       "  </thead>\n",
       "  <tbody>\n",
       "    <tr>\n",
       "      <th>0</th>\n",
       "      <td>100001</td>\n",
       "      <td>bullet01</td>\n",
       "      <td>versatile connector for various 90° connection...</td>\n",
       "      <td>versatile, connector, connections, home, repai...</td>\n",
       "    </tr>\n",
       "    <tr>\n",
       "      <th>1</th>\n",
       "      <td>100001</td>\n",
       "      <td>bullet02</td>\n",
       "      <td>stronger than angled nailing or screw fastenin...</td>\n",
       "      <td>nailing,</td>\n",
       "    </tr>\n",
       "    <tr>\n",
       "      <th>2</th>\n",
       "      <td>100001</td>\n",
       "      <td>bullet03</td>\n",
       "      <td>help ensure joints are consistently straight a...</td>\n",
       "      <td>help, joints,</td>\n",
       "    </tr>\n",
       "    <tr>\n",
       "      <th>3</th>\n",
       "      <td>100001</td>\n",
       "      <td>bullet04</td>\n",
       "      <td>dimensions: 3 in. x 3 in. x 1-1/2 in.</td>\n",
       "      <td>dimensions,</td>\n",
       "    </tr>\n",
       "    <tr>\n",
       "      <th>4</th>\n",
       "      <td>100001</td>\n",
       "      <td>bullet05</td>\n",
       "      <td>made from 12-gauge steel</td>\n",
       "      <td>steel,</td>\n",
       "    </tr>\n",
       "  </tbody>\n",
       "</table>\n",
       "</div>"
      ],
      "text/plain": [
       "  product_uid      name                                              value  \\\n",
       "0      100001  bullet01  versatile connector for various 90° connection...   \n",
       "1      100001  bullet02  stronger than angled nailing or screw fastenin...   \n",
       "2      100001  bullet03  help ensure joints are consistently straight a...   \n",
       "3      100001  bullet04              dimensions: 3 in. x 3 in. x 1-1/2 in.   \n",
       "4      100001  bullet05                           made from 12-gauge steel   \n",
       "\n",
       "                                               Nouns  \n",
       "0  versatile, connector, connections, home, repai...  \n",
       "1                                          nailing,   \n",
       "2                                     help, joints,   \n",
       "3                                       dimensions,   \n",
       "4                                            steel,   "
      ]
     },
     "execution_count": 17,
     "metadata": {},
     "output_type": "execute_result"
    }
   ],
   "source": [
    "df_attributes[\"Nouns\"]=\"\"\n",
    "i=0\n",
    "while i<10:\n",
    "    nouns=\"\"\n",
    "    value=df_attributes.ix[i,2]\n",
    "    token = nltk.word_tokenize(value)\n",
    "    pos = nltk.pos_tag(token)\n",
    "    j=0\n",
    "    while j<len(pos):\n",
    "        if (pos[j][1][0] == 'N')== True:\n",
    "            nouns+=pos[j][0]+\", \"\n",
    "        j+=1\n",
    "    df_attributes.ix[i,3]=nouns\n",
    "    i+=1\n",
    "df_attributes.head()"
   ]
  },
  {
   "cell_type": "markdown",
   "metadata": {},
   "source": [
    "## 4) Feature Engineering\n",
    "\n",
    "### 4.1 Match percentage Product Title\n",
    "To start I decided that one of the most important features to include in the process is a match percentage between the search term and the product title. This will provide hints of what percentage of each query is presented as an element in the title. This process will be applied to both training and testing dataset.\n"
   ]
  },
  {
   "cell_type": "code",
   "execution_count": 18,
   "metadata": {},
   "outputs": [],
   "source": [
    "#df_train['search_term'] = df_train['search_term'].str.split()\n",
    "df_train[\"title_search_match\"]=0.0\n",
    "#df_train['title_search_match'] = pd.to_numeric(df_train['title_search_match'])\n",
    "    "
   ]
  },
  {
   "cell_type": "code",
   "execution_count": 19,
   "metadata": {},
   "outputs": [
    {
     "data": {
      "text/html": [
       "<div>\n",
       "<table border=\"1\" class=\"dataframe\">\n",
       "  <thead>\n",
       "    <tr style=\"text-align: right;\">\n",
       "      <th></th>\n",
       "      <th>id</th>\n",
       "      <th>product_uid</th>\n",
       "      <th>product_title</th>\n",
       "      <th>search_term</th>\n",
       "      <th>relevance</th>\n",
       "      <th>title_search_match</th>\n",
       "    </tr>\n",
       "  </thead>\n",
       "  <tbody>\n",
       "    <tr>\n",
       "      <th>0</th>\n",
       "      <td>2</td>\n",
       "      <td>100001</td>\n",
       "      <td>simpson strong-tie 12-gauge angle</td>\n",
       "      <td>angle bracket</td>\n",
       "      <td>3.00</td>\n",
       "      <td>0.500000</td>\n",
       "    </tr>\n",
       "    <tr>\n",
       "      <th>1</th>\n",
       "      <td>3</td>\n",
       "      <td>100001</td>\n",
       "      <td>simpson strong-tie 12-gauge angle</td>\n",
       "      <td>l bracket</td>\n",
       "      <td>2.50</td>\n",
       "      <td>0.500000</td>\n",
       "    </tr>\n",
       "    <tr>\n",
       "      <th>2</th>\n",
       "      <td>9</td>\n",
       "      <td>100002</td>\n",
       "      <td>behr premium textured deckover 1-gal. #sc-141 ...</td>\n",
       "      <td>deck over</td>\n",
       "      <td>3.00</td>\n",
       "      <td>1.000000</td>\n",
       "    </tr>\n",
       "    <tr>\n",
       "      <th>3</th>\n",
       "      <td>16</td>\n",
       "      <td>100005</td>\n",
       "      <td>delta vero 1-handle shower only faucet trim ki...</td>\n",
       "      <td>rain shower head</td>\n",
       "      <td>2.33</td>\n",
       "      <td>0.333333</td>\n",
       "    </tr>\n",
       "    <tr>\n",
       "      <th>4</th>\n",
       "      <td>17</td>\n",
       "      <td>100005</td>\n",
       "      <td>delta vero 1-handle shower only faucet trim ki...</td>\n",
       "      <td>shower only faucet</td>\n",
       "      <td>2.67</td>\n",
       "      <td>1.000000</td>\n",
       "    </tr>\n",
       "  </tbody>\n",
       "</table>\n",
       "</div>"
      ],
      "text/plain": [
       "   id product_uid                                      product_title  \\\n",
       "0   2      100001                  simpson strong-tie 12-gauge angle   \n",
       "1   3      100001                  simpson strong-tie 12-gauge angle   \n",
       "2   9      100002  behr premium textured deckover 1-gal. #sc-141 ...   \n",
       "3  16      100005  delta vero 1-handle shower only faucet trim ki...   \n",
       "4  17      100005  delta vero 1-handle shower only faucet trim ki...   \n",
       "\n",
       "          search_term  relevance  title_search_match  \n",
       "0       angle bracket       3.00            0.500000  \n",
       "1           l bracket       2.50            0.500000  \n",
       "2           deck over       3.00            1.000000  \n",
       "3    rain shower head       2.33            0.333333  \n",
       "4  shower only faucet       2.67            1.000000  "
      ]
     },
     "execution_count": 19,
     "metadata": {},
     "output_type": "execute_result"
    }
   ],
   "source": [
    "i=0\n",
    "while i<len(df_train):\n",
    "    counter=0\n",
    "    search=df_train.ix[i,3].split()\n",
    "    title=df_train.ix[i,2]\n",
    "    for s in search:\n",
    "        if s in title:\n",
    "            counter+=1\n",
    "    fl=float(counter)/len(search)\n",
    "    df_train.ix[i,5]=fl\n",
    "    i+=1\n",
    "df_train.head()"
   ]
  },
  {
   "cell_type": "code",
   "execution_count": 20,
   "metadata": {},
   "outputs": [
    {
     "data": {
      "text/html": [
       "<div>\n",
       "<table border=\"1\" class=\"dataframe\">\n",
       "  <thead>\n",
       "    <tr style=\"text-align: right;\">\n",
       "      <th></th>\n",
       "      <th>id</th>\n",
       "      <th>product_uid</th>\n",
       "      <th>product_title</th>\n",
       "      <th>search_term</th>\n",
       "      <th>title_search_match</th>\n",
       "    </tr>\n",
       "  </thead>\n",
       "  <tbody>\n",
       "    <tr>\n",
       "      <th>0</th>\n",
       "      <td>1</td>\n",
       "      <td>100001</td>\n",
       "      <td>simpson strong-tie 12-gauge angle</td>\n",
       "      <td>90 degree bracket</td>\n",
       "      <td>0</td>\n",
       "    </tr>\n",
       "    <tr>\n",
       "      <th>1</th>\n",
       "      <td>4</td>\n",
       "      <td>100001</td>\n",
       "      <td>simpson strong-tie 12-gauge angle</td>\n",
       "      <td>metal l brackets</td>\n",
       "      <td>0</td>\n",
       "    </tr>\n",
       "    <tr>\n",
       "      <th>2</th>\n",
       "      <td>5</td>\n",
       "      <td>100001</td>\n",
       "      <td>simpson strong-tie 12-gauge angle</td>\n",
       "      <td>simpson sku able</td>\n",
       "      <td>0</td>\n",
       "    </tr>\n",
       "    <tr>\n",
       "      <th>3</th>\n",
       "      <td>6</td>\n",
       "      <td>100001</td>\n",
       "      <td>simpson strong-tie 12-gauge angle</td>\n",
       "      <td>simpson strong  ties</td>\n",
       "      <td>0</td>\n",
       "    </tr>\n",
       "    <tr>\n",
       "      <th>4</th>\n",
       "      <td>7</td>\n",
       "      <td>100001</td>\n",
       "      <td>simpson strong-tie 12-gauge angle</td>\n",
       "      <td>simpson strong tie hcc668</td>\n",
       "      <td>0</td>\n",
       "    </tr>\n",
       "  </tbody>\n",
       "</table>\n",
       "</div>"
      ],
      "text/plain": [
       "   id product_uid                      product_title  \\\n",
       "0   1      100001  simpson strong-tie 12-gauge angle   \n",
       "1   4      100001  simpson strong-tie 12-gauge angle   \n",
       "2   5      100001  simpson strong-tie 12-gauge angle   \n",
       "3   6      100001  simpson strong-tie 12-gauge angle   \n",
       "4   7      100001  simpson strong-tie 12-gauge angle   \n",
       "\n",
       "                 search_term  title_search_match  \n",
       "0          90 degree bracket                   0  \n",
       "1           metal l brackets                   0  \n",
       "2           simpson sku able                   0  \n",
       "3       simpson strong  ties                   0  \n",
       "4  simpson strong tie hcc668                   0  "
      ]
     },
     "execution_count": 20,
     "metadata": {},
     "output_type": "execute_result"
    }
   ],
   "source": [
    "#df_test['search_term'] = df_test['search_term'].str.split()\n",
    "df_test[\"title_search_match\"]=0.0\n",
    "#df_train['title_search_match'] = pd.to_numeric(df_train['title_search_match'])\n",
    "df_test.head()"
   ]
  },
  {
   "cell_type": "code",
   "execution_count": 21,
   "metadata": {},
   "outputs": [
    {
     "data": {
      "text/html": [
       "<div>\n",
       "<table border=\"1\" class=\"dataframe\">\n",
       "  <thead>\n",
       "    <tr style=\"text-align: right;\">\n",
       "      <th></th>\n",
       "      <th>id</th>\n",
       "      <th>product_uid</th>\n",
       "      <th>product_title</th>\n",
       "      <th>search_term</th>\n",
       "      <th>title_search_match</th>\n",
       "    </tr>\n",
       "  </thead>\n",
       "  <tbody>\n",
       "    <tr>\n",
       "      <th>0</th>\n",
       "      <td>1</td>\n",
       "      <td>100001</td>\n",
       "      <td>simpson strong-tie 12-gauge angle</td>\n",
       "      <td>90 degree bracket</td>\n",
       "      <td>0.000000</td>\n",
       "    </tr>\n",
       "    <tr>\n",
       "      <th>1</th>\n",
       "      <td>4</td>\n",
       "      <td>100001</td>\n",
       "      <td>simpson strong-tie 12-gauge angle</td>\n",
       "      <td>metal l brackets</td>\n",
       "      <td>0.333333</td>\n",
       "    </tr>\n",
       "    <tr>\n",
       "      <th>2</th>\n",
       "      <td>5</td>\n",
       "      <td>100001</td>\n",
       "      <td>simpson strong-tie 12-gauge angle</td>\n",
       "      <td>simpson sku able</td>\n",
       "      <td>0.333333</td>\n",
       "    </tr>\n",
       "    <tr>\n",
       "      <th>3</th>\n",
       "      <td>6</td>\n",
       "      <td>100001</td>\n",
       "      <td>simpson strong-tie 12-gauge angle</td>\n",
       "      <td>simpson strong  ties</td>\n",
       "      <td>0.666667</td>\n",
       "    </tr>\n",
       "    <tr>\n",
       "      <th>4</th>\n",
       "      <td>7</td>\n",
       "      <td>100001</td>\n",
       "      <td>simpson strong-tie 12-gauge angle</td>\n",
       "      <td>simpson strong tie hcc668</td>\n",
       "      <td>0.750000</td>\n",
       "    </tr>\n",
       "  </tbody>\n",
       "</table>\n",
       "</div>"
      ],
      "text/plain": [
       "   id product_uid                      product_title  \\\n",
       "0   1      100001  simpson strong-tie 12-gauge angle   \n",
       "1   4      100001  simpson strong-tie 12-gauge angle   \n",
       "2   5      100001  simpson strong-tie 12-gauge angle   \n",
       "3   6      100001  simpson strong-tie 12-gauge angle   \n",
       "4   7      100001  simpson strong-tie 12-gauge angle   \n",
       "\n",
       "                 search_term  title_search_match  \n",
       "0          90 degree bracket            0.000000  \n",
       "1           metal l brackets            0.333333  \n",
       "2           simpson sku able            0.333333  \n",
       "3       simpson strong  ties            0.666667  \n",
       "4  simpson strong tie hcc668            0.750000  "
      ]
     },
     "execution_count": 21,
     "metadata": {},
     "output_type": "execute_result"
    }
   ],
   "source": [
    "i=0\n",
    "while i<len(df_test):\n",
    "    counter=0\n",
    "    search=df_test.ix[i,3].split()\n",
    "    title=df_test.ix[i,2]\n",
    "    for s in search:\n",
    "        if s in title:\n",
    "            counter+=1\n",
    "    fl=float(counter)/len(search)\n",
    "    df_test.ix[i,4]=fl\n",
    "    i+=1\n",
    "df_test.head()"
   ]
  },
  {
   "cell_type": "markdown",
   "metadata": {},
   "source": [
    "### 4.2 Brand match insert\n",
    "Relate if the brand of the product appears in the search term or in the product tittle. Impose a higher \"score\" if the brand is mentioned directly in the search, and a medium score if it appears in the product title"
   ]
  },
  {
   "cell_type": "code",
   "execution_count": 34,
   "metadata": {},
   "outputs": [],
   "source": [
    "df_brand['value'].str.split()\n",
    "df_train[\"brand_match\"]=0"
   ]
  },
  {
   "cell_type": "code",
   "execution_count": 35,
   "metadata": {},
   "outputs": [],
   "source": [
    "df_train['product_title']=df_train['product_title'].str.split()"
   ]
  },
  {
   "cell_type": "code",
   "execution_count": 81,
   "metadata": {},
   "outputs": [
    {
     "data": {
      "text/html": [
       "<div>\n",
       "<table border=\"1\" class=\"dataframe\">\n",
       "  <thead>\n",
       "    <tr style=\"text-align: right;\">\n",
       "      <th></th>\n",
       "      <th>id</th>\n",
       "      <th>product_uid</th>\n",
       "      <th>product_title</th>\n",
       "      <th>search_term</th>\n",
       "      <th>relevance</th>\n",
       "      <th>title_search_match</th>\n",
       "      <th>brand_match</th>\n",
       "    </tr>\n",
       "  </thead>\n",
       "  <tbody>\n",
       "    <tr>\n",
       "      <th>0</th>\n",
       "      <td>2</td>\n",
       "      <td>100001</td>\n",
       "      <td>[simpson, strong-tie, 12-gauge, angle]</td>\n",
       "      <td>[angle, bracket]</td>\n",
       "      <td>3.00</td>\n",
       "      <td>0.500000</td>\n",
       "      <td>0.5</td>\n",
       "    </tr>\n",
       "    <tr>\n",
       "      <th>1</th>\n",
       "      <td>3</td>\n",
       "      <td>100001</td>\n",
       "      <td>[simpson, strong-tie, 12-gauge, angle]</td>\n",
       "      <td>[l, bracket]</td>\n",
       "      <td>2.50</td>\n",
       "      <td>0.500000</td>\n",
       "      <td>0.5</td>\n",
       "    </tr>\n",
       "    <tr>\n",
       "      <th>2</th>\n",
       "      <td>9</td>\n",
       "      <td>100002</td>\n",
       "      <td>[behr, premium, textured, deckover, 1-gal., #s...</td>\n",
       "      <td>[deck, over]</td>\n",
       "      <td>3.00</td>\n",
       "      <td>1.000000</td>\n",
       "      <td>0.5</td>\n",
       "    </tr>\n",
       "    <tr>\n",
       "      <th>3</th>\n",
       "      <td>16</td>\n",
       "      <td>100005</td>\n",
       "      <td>[delta, vero, 1-handle, shower, only, faucet, ...</td>\n",
       "      <td>[rain, shower, head]</td>\n",
       "      <td>2.33</td>\n",
       "      <td>0.333333</td>\n",
       "      <td>0.5</td>\n",
       "    </tr>\n",
       "    <tr>\n",
       "      <th>4</th>\n",
       "      <td>17</td>\n",
       "      <td>100005</td>\n",
       "      <td>[delta, vero, 1-handle, shower, only, faucet, ...</td>\n",
       "      <td>[shower, only, faucet]</td>\n",
       "      <td>2.67</td>\n",
       "      <td>1.000000</td>\n",
       "      <td>0.5</td>\n",
       "    </tr>\n",
       "  </tbody>\n",
       "</table>\n",
       "</div>"
      ],
      "text/plain": [
       "   id  product_uid                                      product_title  \\\n",
       "0   2       100001             [simpson, strong-tie, 12-gauge, angle]   \n",
       "1   3       100001             [simpson, strong-tie, 12-gauge, angle]   \n",
       "2   9       100002  [behr, premium, textured, deckover, 1-gal., #s...   \n",
       "3  16       100005  [delta, vero, 1-handle, shower, only, faucet, ...   \n",
       "4  17       100005  [delta, vero, 1-handle, shower, only, faucet, ...   \n",
       "\n",
       "              search_term  relevance  title_search_match  brand_match  \n",
       "0        [angle, bracket]       3.00            0.500000          0.5  \n",
       "1            [l, bracket]       2.50            0.500000          0.5  \n",
       "2            [deck, over]       3.00            1.000000          0.5  \n",
       "3    [rain, shower, head]       2.33            0.333333          0.5  \n",
       "4  [shower, only, faucet]       2.67            1.000000          0.5  "
      ]
     },
     "execution_count": 81,
     "metadata": {},
     "output_type": "execute_result"
    }
   ],
   "source": [
    "import numpy as np\n",
    "i=0\n",
    "while i<len(train):\n",
    "    uid=df_train.ix[i,1]\n",
    "    if any(df_brand['product_uid'] == uid):\n",
    "        idx=np.where(df_brand[\"product_uid\"] == uid)\n",
    "        idw=idx[0].tolist()\n",
    "        brand=df_brand.iloc[idw[0],2]\n",
    "        if any(x in brand for x in df_train.ix[i,2]):\n",
    "            df_train.ix[i,6]=0.5\n",
    "        if any(x in brand for x in df_train.ix[i,3]):\n",
    "            df_train.ix[i,6]=1        \n",
    "    i+=1\n",
    "\n",
    "df_train.head() \n"
   ]
  },
  {
   "cell_type": "markdown",
   "metadata": {},
   "source": [
    "Brand Matching application in the test dataset:"
   ]
  },
  {
   "cell_type": "code",
   "execution_count": 64,
   "metadata": {
    "collapsed": true
   },
   "outputs": [],
   "source": [
    "df_test[\"brand_match\"]=0\n",
    "df_test['product_title']=df_test['product_title'].str.split()"
   ]
  },
  {
   "cell_type": "code",
   "execution_count": 80,
   "metadata": {},
   "outputs": [
    {
     "data": {
      "text/html": [
       "<div>\n",
       "<table border=\"1\" class=\"dataframe\">\n",
       "  <thead>\n",
       "    <tr style=\"text-align: right;\">\n",
       "      <th></th>\n",
       "      <th>id</th>\n",
       "      <th>product_uid</th>\n",
       "      <th>product_title</th>\n",
       "      <th>search_term</th>\n",
       "      <th>title_search_match</th>\n",
       "      <th>brand_match</th>\n",
       "    </tr>\n",
       "  </thead>\n",
       "  <tbody>\n",
       "    <tr>\n",
       "      <th>0</th>\n",
       "      <td>1</td>\n",
       "      <td>100001</td>\n",
       "      <td>[simpson, strong-tie, 12-gauge, angle]</td>\n",
       "      <td>[90, degree, bracket]</td>\n",
       "      <td>0.000000</td>\n",
       "      <td>0.5</td>\n",
       "    </tr>\n",
       "    <tr>\n",
       "      <th>1</th>\n",
       "      <td>4</td>\n",
       "      <td>100001</td>\n",
       "      <td>[simpson, strong-tie, 12-gauge, angle]</td>\n",
       "      <td>[metal, l, brackets]</td>\n",
       "      <td>0.333333</td>\n",
       "      <td>0.5</td>\n",
       "    </tr>\n",
       "    <tr>\n",
       "      <th>2</th>\n",
       "      <td>5</td>\n",
       "      <td>100001</td>\n",
       "      <td>[simpson, strong-tie, 12-gauge, angle]</td>\n",
       "      <td>[simpson, sku, able]</td>\n",
       "      <td>0.333333</td>\n",
       "      <td>0.5</td>\n",
       "    </tr>\n",
       "    <tr>\n",
       "      <th>3</th>\n",
       "      <td>6</td>\n",
       "      <td>100001</td>\n",
       "      <td>[simpson, strong-tie, 12-gauge, angle]</td>\n",
       "      <td>[simpson, strong, ties]</td>\n",
       "      <td>0.666667</td>\n",
       "      <td>1.0</td>\n",
       "    </tr>\n",
       "    <tr>\n",
       "      <th>4</th>\n",
       "      <td>7</td>\n",
       "      <td>100001</td>\n",
       "      <td>[simpson, strong-tie, 12-gauge, angle]</td>\n",
       "      <td>[simpson, strong, tie, hcc668]</td>\n",
       "      <td>0.750000</td>\n",
       "      <td>0.5</td>\n",
       "    </tr>\n",
       "  </tbody>\n",
       "</table>\n",
       "</div>"
      ],
      "text/plain": [
       "   id  product_uid                           product_title  \\\n",
       "0   1       100001  [simpson, strong-tie, 12-gauge, angle]   \n",
       "1   4       100001  [simpson, strong-tie, 12-gauge, angle]   \n",
       "2   5       100001  [simpson, strong-tie, 12-gauge, angle]   \n",
       "3   6       100001  [simpson, strong-tie, 12-gauge, angle]   \n",
       "4   7       100001  [simpson, strong-tie, 12-gauge, angle]   \n",
       "\n",
       "                      search_term  title_search_match  brand_match  \n",
       "0           [90, degree, bracket]            0.000000          0.5  \n",
       "1            [metal, l, brackets]            0.333333          0.5  \n",
       "2            [simpson, sku, able]            0.333333          0.5  \n",
       "3         [simpson, strong, ties]            0.666667          1.0  \n",
       "4  [simpson, strong, tie, hcc668]            0.750000          0.5  "
      ]
     },
     "execution_count": 80,
     "metadata": {},
     "output_type": "execute_result"
    }
   ],
   "source": [
    "df_test['search_term']\n",
    "i=0\n",
    "while i<len(test):\n",
    "    uid=df_test.ix[i,1]\n",
    "    if any(df_brand['product_uid'] == uid):\n",
    "        idx=np.where(df_brand[\"product_uid\"] == uid)\n",
    "        idw=idx[0].tolist()\n",
    "        brand=df_brand.iloc[idw[0],2]\n",
    "        if any(x in brand for x in df_test.ix[i,2]):\n",
    "            df_test.ix[i,5]=0.5\n",
    "        if any(x in brand for x in df_train.ix[i,3]):\n",
    "            df_test.ix[i,5]=1        \n",
    "    i+=1\n",
    "df_test.head() "
   ]
  },
  {
   "cell_type": "markdown",
   "metadata": {},
   "source": [
    "### 4.3 Color match insertion\n",
    "Relate if the color of the product appears in the search term or in the product tittle. Impose a higher \"score\" if the color is mentioned directly in the search, and a medium score if it appears in the product title"
   ]
  },
  {
   "cell_type": "code",
   "execution_count": null,
   "metadata": {},
   "outputs": [],
   "source": [
    "df_train[\"color_match\"]=0\n",
    "df_test[\"color_match\"]=0\n",
    "df_color['value']=df_color['value'].str.split()"
   ]
  },
  {
   "cell_type": "code",
   "execution_count": 85,
   "metadata": {},
   "outputs": [
    {
     "data": {
      "text/html": [
       "<div>\n",
       "<table border=\"1\" class=\"dataframe\">\n",
       "  <thead>\n",
       "    <tr style=\"text-align: right;\">\n",
       "      <th></th>\n",
       "      <th>id</th>\n",
       "      <th>product_uid</th>\n",
       "      <th>product_title</th>\n",
       "      <th>search_term</th>\n",
       "      <th>relevance</th>\n",
       "      <th>title_search_match</th>\n",
       "      <th>brand_match</th>\n",
       "      <th>color_match</th>\n",
       "    </tr>\n",
       "  </thead>\n",
       "  <tbody>\n",
       "    <tr>\n",
       "      <th>0</th>\n",
       "      <td>2</td>\n",
       "      <td>100001</td>\n",
       "      <td>[simpson, strong-tie, 12-gauge, angle]</td>\n",
       "      <td>[angle, bracket]</td>\n",
       "      <td>3.00</td>\n",
       "      <td>0.500000</td>\n",
       "      <td>0.5</td>\n",
       "      <td>0</td>\n",
       "    </tr>\n",
       "    <tr>\n",
       "      <th>1</th>\n",
       "      <td>3</td>\n",
       "      <td>100001</td>\n",
       "      <td>[simpson, strong-tie, 12-gauge, angle]</td>\n",
       "      <td>[l, bracket]</td>\n",
       "      <td>2.50</td>\n",
       "      <td>0.500000</td>\n",
       "      <td>0.5</td>\n",
       "      <td>0</td>\n",
       "    </tr>\n",
       "    <tr>\n",
       "      <th>2</th>\n",
       "      <td>9</td>\n",
       "      <td>100002</td>\n",
       "      <td>[behr, premium, textured, deckover, 1-gal., #s...</td>\n",
       "      <td>[deck, over]</td>\n",
       "      <td>3.00</td>\n",
       "      <td>1.000000</td>\n",
       "      <td>0.5</td>\n",
       "      <td>0</td>\n",
       "    </tr>\n",
       "    <tr>\n",
       "      <th>3</th>\n",
       "      <td>16</td>\n",
       "      <td>100005</td>\n",
       "      <td>[delta, vero, 1-handle, shower, only, faucet, ...</td>\n",
       "      <td>[rain, shower, head]</td>\n",
       "      <td>2.33</td>\n",
       "      <td>0.333333</td>\n",
       "      <td>0.5</td>\n",
       "      <td>0</td>\n",
       "    </tr>\n",
       "    <tr>\n",
       "      <th>4</th>\n",
       "      <td>17</td>\n",
       "      <td>100005</td>\n",
       "      <td>[delta, vero, 1-handle, shower, only, faucet, ...</td>\n",
       "      <td>[shower, only, faucet]</td>\n",
       "      <td>2.67</td>\n",
       "      <td>1.000000</td>\n",
       "      <td>0.5</td>\n",
       "      <td>0</td>\n",
       "    </tr>\n",
       "  </tbody>\n",
       "</table>\n",
       "</div>"
      ],
      "text/plain": [
       "   id  product_uid                                      product_title  \\\n",
       "0   2       100001             [simpson, strong-tie, 12-gauge, angle]   \n",
       "1   3       100001             [simpson, strong-tie, 12-gauge, angle]   \n",
       "2   9       100002  [behr, premium, textured, deckover, 1-gal., #s...   \n",
       "3  16       100005  [delta, vero, 1-handle, shower, only, faucet, ...   \n",
       "4  17       100005  [delta, vero, 1-handle, shower, only, faucet, ...   \n",
       "\n",
       "              search_term  relevance  title_search_match  brand_match  \\\n",
       "0        [angle, bracket]       3.00            0.500000          0.5   \n",
       "1            [l, bracket]       2.50            0.500000          0.5   \n",
       "2            [deck, over]       3.00            1.000000          0.5   \n",
       "3    [rain, shower, head]       2.33            0.333333          0.5   \n",
       "4  [shower, only, faucet]       2.67            1.000000          0.5   \n",
       "\n",
       "   color_match  \n",
       "0            0  \n",
       "1            0  \n",
       "2            0  \n",
       "3            0  \n",
       "4            0  "
      ]
     },
     "execution_count": 85,
     "metadata": {},
     "output_type": "execute_result"
    }
   ],
   "source": [
    "i=0\n",
    "while i<len(train):\n",
    "    uid=df_train.ix[i,1]\n",
    "    if any(df_color['product_uid'] == uid):\n",
    "        idx=np.where(df_color[\"product_uid\"] == uid)\n",
    "        idw=idx[0].tolist()\n",
    "        color=df_color.iloc[idw[0],2]\n",
    "        if any(x in color for x in df_train.ix[i,2]):\n",
    "            df_train.ix[i,7]=0.5\n",
    "        if any(x in color for x in df_train.ix[i,3]):\n",
    "            df_train.ix[i,7]=1        \n",
    "    i+=1\n",
    "\n",
    "df_train.head() "
   ]
  },
  {
   "cell_type": "markdown",
   "metadata": {},
   "source": [
    "Color matchin in the Test dataset:"
   ]
  },
  {
   "cell_type": "code",
   "execution_count": 87,
   "metadata": {},
   "outputs": [
    {
     "data": {
      "text/html": [
       "<div>\n",
       "<table border=\"1\" class=\"dataframe\">\n",
       "  <thead>\n",
       "    <tr style=\"text-align: right;\">\n",
       "      <th></th>\n",
       "      <th>id</th>\n",
       "      <th>product_uid</th>\n",
       "      <th>product_title</th>\n",
       "      <th>search_term</th>\n",
       "      <th>title_search_match</th>\n",
       "      <th>brand_match</th>\n",
       "      <th>color_match</th>\n",
       "    </tr>\n",
       "  </thead>\n",
       "  <tbody>\n",
       "    <tr>\n",
       "      <th>0</th>\n",
       "      <td>1</td>\n",
       "      <td>100001</td>\n",
       "      <td>[simpson, strong-tie, 12-gauge, angle]</td>\n",
       "      <td>[90, degree, bracket]</td>\n",
       "      <td>0.000000</td>\n",
       "      <td>0.5</td>\n",
       "      <td>0</td>\n",
       "    </tr>\n",
       "    <tr>\n",
       "      <th>1</th>\n",
       "      <td>4</td>\n",
       "      <td>100001</td>\n",
       "      <td>[simpson, strong-tie, 12-gauge, angle]</td>\n",
       "      <td>[metal, l, brackets]</td>\n",
       "      <td>0.333333</td>\n",
       "      <td>0.5</td>\n",
       "      <td>0</td>\n",
       "    </tr>\n",
       "    <tr>\n",
       "      <th>2</th>\n",
       "      <td>5</td>\n",
       "      <td>100001</td>\n",
       "      <td>[simpson, strong-tie, 12-gauge, angle]</td>\n",
       "      <td>[simpson, sku, able]</td>\n",
       "      <td>0.333333</td>\n",
       "      <td>0.5</td>\n",
       "      <td>0</td>\n",
       "    </tr>\n",
       "    <tr>\n",
       "      <th>3</th>\n",
       "      <td>6</td>\n",
       "      <td>100001</td>\n",
       "      <td>[simpson, strong-tie, 12-gauge, angle]</td>\n",
       "      <td>[simpson, strong, ties]</td>\n",
       "      <td>0.666667</td>\n",
       "      <td>1.0</td>\n",
       "      <td>0</td>\n",
       "    </tr>\n",
       "    <tr>\n",
       "      <th>4</th>\n",
       "      <td>7</td>\n",
       "      <td>100001</td>\n",
       "      <td>[simpson, strong-tie, 12-gauge, angle]</td>\n",
       "      <td>[simpson, strong, tie, hcc668]</td>\n",
       "      <td>0.750000</td>\n",
       "      <td>0.5</td>\n",
       "      <td>0</td>\n",
       "    </tr>\n",
       "  </tbody>\n",
       "</table>\n",
       "</div>"
      ],
      "text/plain": [
       "   id  product_uid                           product_title  \\\n",
       "0   1       100001  [simpson, strong-tie, 12-gauge, angle]   \n",
       "1   4       100001  [simpson, strong-tie, 12-gauge, angle]   \n",
       "2   5       100001  [simpson, strong-tie, 12-gauge, angle]   \n",
       "3   6       100001  [simpson, strong-tie, 12-gauge, angle]   \n",
       "4   7       100001  [simpson, strong-tie, 12-gauge, angle]   \n",
       "\n",
       "                      search_term  title_search_match  brand_match  \\\n",
       "0           [90, degree, bracket]            0.000000          0.5   \n",
       "1            [metal, l, brackets]            0.333333          0.5   \n",
       "2            [simpson, sku, able]            0.333333          0.5   \n",
       "3         [simpson, strong, ties]            0.666667          1.0   \n",
       "4  [simpson, strong, tie, hcc668]            0.750000          0.5   \n",
       "\n",
       "   color_match  \n",
       "0            0  \n",
       "1            0  \n",
       "2            0  \n",
       "3            0  \n",
       "4            0  "
      ]
     },
     "execution_count": 87,
     "metadata": {},
     "output_type": "execute_result"
    }
   ],
   "source": [
    "i=0\n",
    "while i<len(test):\n",
    "    uid=df_test.ix[i,1]\n",
    "    if any(df_color['product_uid'] == uid):\n",
    "        idx=np.where(df_color[\"product_uid\"] == uid)\n",
    "        idw=idx[0].tolist()\n",
    "        color=df_color.iloc[idw[0],2]\n",
    "        if any(x in color for x in df_test.ix[i,2]):\n",
    "            df_test.ix[i,6]=0.5\n",
    "        if any(x in color for x in df_train.ix[i,3]):\n",
    "            df_test.ix[i,6]=1        \n",
    "    i+=1\n",
    "\n",
    "df_test.head() "
   ]
  },
  {
   "cell_type": "markdown",
   "metadata": {},
   "source": [
    "## 5) Model\n",
    "### 5.1 Random Forest Regressor\n",
    "For the modeling I select working with the Random Forest Regression.\n",
    "As the prediction is for a continuous relevance label, I believe that approaching the problem as a regression problem will provide more accurate results than using classification."
   ]
  },
  {
   "cell_type": "code",
   "execution_count": 22,
   "metadata": {},
   "outputs": [
    {
     "name": "stdout",
     "output_type": "stream",
     "text": [
      "root\n",
      " |-- id: long (nullable = true)\n",
      " |-- product_uid: long (nullable = true)\n",
      " |-- product_title: string (nullable = true)\n",
      " |-- search_term: string (nullable = true)\n",
      " |-- relevance: double (nullable = true)\n",
      " |-- title_search_match: double (nullable = true)\n",
      "\n",
      "+---+-----------+--------------------+--------------------+---------+------------------+\n",
      "| id|product_uid|       product_title|         search_term|relevance|title_search_match|\n",
      "+---+-----------+--------------------+--------------------+---------+------------------+\n",
      "|  2|     100001|simpson strong-ti...|       angle bracket|      3.0|               0.5|\n",
      "|  3|     100001|simpson strong-ti...|           l bracket|      2.5|               0.5|\n",
      "|  9|     100002|behr premium text...|           deck over|      3.0|               1.0|\n",
      "| 16|     100005|delta vero 1-hand...|    rain shower head|     2.33|0.3333333333333333|\n",
      "| 17|     100005|delta vero 1-hand...|  shower only faucet|     2.67|               1.0|\n",
      "| 18|     100006|whirlpool 1.9 cu....|      convection otr|      3.0|               0.5|\n",
      "| 20|     100006|whirlpool 1.9 cu....|microwave over stove|     2.67|0.6666666666666666|\n",
      "| 21|     100006|whirlpool 1.9 cu....|          microwaves|      3.0|               0.0|\n",
      "| 23|     100007|lithonia lighting...|     emergency light|     2.67|               1.0|\n",
      "| 27|     100009|house of fara 3/4...|             mdf 3/4|      3.0|               1.0|\n",
      "| 34|     100010|valley view indus...|        steele stake|     2.67|               0.5|\n",
      "| 35|     100011|toro personal pac...|briggs and stratt...|      3.0|               0.8|\n",
      "| 37|     100011|toro personal pac...|            gas mowe|      3.0|               1.0|\n",
      "| 38|     100011|toro personal pac...|         honda mower|      2.0|               0.5|\n",
      "| 48|     100012|hampton bay caram...|hampton bay chest...|     2.67|0.6666666666666666|\n",
      "| 51|     100013|insinkerator sink...|            disposer|     2.67|               1.0|\n",
      "| 65|     100016|sunjoy calais 8 f...|        grill gazebo|      3.0|               1.0|\n",
      "| 69|     100017|md building produ...|         door guards|      1.0|               0.0|\n",
      "| 75|     100017|md building produ...|metal plate cover...|     1.67|               0.0|\n",
      "| 81|     100017|md building produ...|      radiator grate|     2.33|               0.0|\n",
      "+---+-----------+--------------------+--------------------+---------+------------------+\n",
      "only showing top 20 rows\n",
      "\n"
     ]
    }
   ],
   "source": [
    "df_train['product_uid'] = pd.to_numeric(df_train['product_uid'])\n",
    "train=sqlContext.createDataFrame(df_train)\n",
    "train.printSchema()\n",
    "train.show()"
   ]
  },
  {
   "cell_type": "code",
   "execution_count": 23,
   "metadata": {},
   "outputs": [
    {
     "name": "stdout",
     "output_type": "stream",
     "text": [
      "root\n",
      " |-- id: long (nullable = true)\n",
      " |-- product_uid: long (nullable = true)\n",
      " |-- product_title: string (nullable = true)\n",
      " |-- search_term: string (nullable = true)\n",
      " |-- title_search_match: double (nullable = true)\n",
      "\n",
      "+---+-----------+--------------------+--------------------+------------------+\n",
      "| id|product_uid|       product_title|         search_term|title_search_match|\n",
      "+---+-----------+--------------------+--------------------+------------------+\n",
      "|  1|     100001|simpson strong-ti...|   90 degree bracket|               0.0|\n",
      "|  4|     100001|simpson strong-ti...|    metal l brackets|0.3333333333333333|\n",
      "|  5|     100001|simpson strong-ti...|    simpson sku able|0.3333333333333333|\n",
      "|  6|     100001|simpson strong-ti...|simpson strong  ties|0.6666666666666666|\n",
      "|  7|     100001|simpson strong-ti...|simpson strong ti...|              0.75|\n",
      "|  8|     100001|simpson strong-ti...|     wood connectors|               0.0|\n",
      "| 10|     100003|sterling ensemble...| bath and shower kit|               1.0|\n",
      "| 11|     100003|sterling ensemble...|      bath drain kit|               1.0|\n",
      "| 12|     100003|sterling ensemble...|one piece tub shower|              0.25|\n",
      "| 13|     100004|grape solar 265-w...|         solar panel|               1.0|\n",
      "| 14|     100005|delta vero 1-hand...|1 handle shower d...|               1.0|\n",
      "| 15|     100005|delta vero 1-hand...|delta ashland sho...|              0.75|\n",
      "| 19|     100006|whirlpool 1.9 cu....|       cooking stove|               0.5|\n",
      "| 22|     100006|whirlpool 1.9 cu....|microwaves over r...|0.6666666666666666|\n",
      "| 24|     100008|teks #10 1-1/2 in...| self tapping screws|0.6666666666666666|\n",
      "| 25|     100009|house of fara 3/4...|   3 1/20door casing|0.6666666666666666|\n",
      "| 26|     100009|house of fara 3/4...|           door trim|               0.0|\n",
      "| 28|     100010|valley view indus...|       anchor stakes|               0.5|\n",
      "| 29|     100010|valley view indus...|    landscape edging|               0.0|\n",
      "| 30|     100010|valley view indus...|         lawn edging|               0.0|\n",
      "+---+-----------+--------------------+--------------------+------------------+\n",
      "only showing top 20 rows\n",
      "\n"
     ]
    }
   ],
   "source": [
    "df_test['product_uid'] = pd.to_numeric(df_test['product_uid'])\n",
    "test=sqlContext.createDataFrame(df_test)\n",
    "test.printSchema()\n",
    "test.show()"
   ]
  },
  {
   "cell_type": "markdown",
   "metadata": {},
   "source": [
    "Transform individual features into a indexed form"
   ]
  },
  {
   "cell_type": "code",
   "execution_count": 24,
   "metadata": {},
   "outputs": [
    {
     "name": "stdout",
     "output_type": "stream",
     "text": [
      "+---------+--------------------+\n",
      "|relevance|            features|\n",
      "+---------+--------------------+\n",
      "|      3.0|      [100001.0,0.5]|\n",
      "|      2.5|      [100001.0,0.5]|\n",
      "|      3.0|      [100002.0,1.0]|\n",
      "|     2.33|[100005.0,0.33333...|\n",
      "|     2.67|      [100005.0,1.0]|\n",
      "|      3.0|      [100006.0,0.5]|\n",
      "|     2.67|[100006.0,0.66666...|\n",
      "|      3.0|      [100006.0,0.0]|\n",
      "|     2.67|      [100007.0,1.0]|\n",
      "|      3.0|      [100009.0,1.0]|\n",
      "|     2.67|      [100010.0,0.5]|\n",
      "|      3.0|      [100011.0,0.8]|\n",
      "|      3.0|      [100011.0,1.0]|\n",
      "|      2.0|      [100011.0,0.5]|\n",
      "|     2.67|[100012.0,0.66666...|\n",
      "|     2.67|      [100013.0,1.0]|\n",
      "|      3.0|      [100016.0,1.0]|\n",
      "|      1.0|      [100017.0,0.0]|\n",
      "|     1.67|      [100017.0,0.0]|\n",
      "|     2.33|      [100017.0,0.0]|\n",
      "+---------+--------------------+\n",
      "only showing top 20 rows\n",
      "\n"
     ]
    }
   ],
   "source": [
    "from pyspark.ml import Pipeline\n",
    "from pyspark.ml.feature import StringIndexer, VectorIndexer\n",
    "from pyspark.ml.feature import VectorAssembler\n",
    "\n",
    "# Join features with Vector Assembler\n",
    "assembler = VectorAssembler(\n",
    "    inputCols=[\"product_uid\",\"title_search_match\"], outputCol=\"features\")\n",
    "train = assembler.transform(train)\n",
    "train = train.drop(\"product_title\")\n",
    "train = train.drop(\"search_term\")\n",
    "train = train.drop(\"title_search_match\")\n",
    "train= train.drop(\"id\")\n",
    "train = train.drop(\"product_uid\")\n",
    "train.show()"
   ]
  },
  {
   "cell_type": "code",
   "execution_count": 25,
   "metadata": {},
   "outputs": [
    {
     "name": "stdout",
     "output_type": "stream",
     "text": [
      "+--------------------+\n",
      "|            features|\n",
      "+--------------------+\n",
      "|      [100001.0,0.0]|\n",
      "|[100001.0,0.33333...|\n",
      "|[100001.0,0.33333...|\n",
      "|[100001.0,0.66666...|\n",
      "|     [100001.0,0.75]|\n",
      "|      [100001.0,0.0]|\n",
      "|      [100003.0,1.0]|\n",
      "|      [100003.0,1.0]|\n",
      "|     [100003.0,0.25]|\n",
      "|      [100004.0,1.0]|\n",
      "|      [100005.0,1.0]|\n",
      "|     [100005.0,0.75]|\n",
      "|      [100006.0,0.5]|\n",
      "|[100006.0,0.66666...|\n",
      "|[100008.0,0.66666...|\n",
      "|[100009.0,0.66666...|\n",
      "|      [100009.0,0.0]|\n",
      "|      [100010.0,0.5]|\n",
      "|      [100010.0,0.0]|\n",
      "|      [100010.0,0.0]|\n",
      "+--------------------+\n",
      "only showing top 20 rows\n",
      "\n"
     ]
    }
   ],
   "source": [
    "assembler = VectorAssembler(\n",
    "    inputCols=[\"product_uid\",\"title_search_match\"], outputCol=\"features\")\n",
    "test = assembler.transform(test)\n",
    "test = test.drop(\"product_title\")\n",
    "test = test.drop(\"search_term\")\n",
    "test = test.drop(\"title_search_match\")\n",
    "test = test.drop(\"id\")\n",
    "test = test.drop(\"product_uid\")\n",
    "test.show()"
   ]
  },
  {
   "cell_type": "markdown",
   "metadata": {},
   "source": [
    "### 5.2 Model Training and Prediction\n",
    "First I converted the pandas information to a spark dataframe, so I can develop the spark pipeline for the model.\n",
    "The features where joined a vector assembler and the model was trained using the spark RandomForestRegressor.\n",
    "Finally the test dataset was used for prediction."
   ]
  },
  {
   "cell_type": "code",
   "execution_count": 26,
   "metadata": {
    "collapsed": true
   },
   "outputs": [],
   "source": [
    "from pyspark.ml.regression import RandomForestRegressor\n",
    "\n",
    "# Define Random forest characteristics\n",
    "rf = RandomForestRegressor(featuresCol=\"features\", labelCol=\"relevance\", predictionCol=\"predictedLabel\", numTrees=10)\n",
    "\n",
    "# Train the model\n",
    "model = rf.fit(train)\n",
    "\n",
    "# Predict the test data\n",
    "pred = model.transform(test)"
   ]
  },
  {
   "cell_type": "code",
   "execution_count": 27,
   "metadata": {},
   "outputs": [
    {
     "name": "stdout",
     "output_type": "stream",
     "text": [
      "+--------------------+------------------+\n",
      "|            features|    predictedLabel|\n",
      "+--------------------+------------------+\n",
      "|      [100001.0,0.0]|2.2012979745493633|\n",
      "|[100001.0,0.33333...| 2.324435451515588|\n",
      "|[100001.0,0.33333...| 2.324435451515588|\n",
      "|[100001.0,0.66666...|2.4106011861277867|\n",
      "|     [100001.0,0.75]|2.4352738947342947|\n",
      "|      [100001.0,0.0]|2.2012979745493633|\n",
      "|      [100003.0,1.0]|2.7069969261729114|\n",
      "|      [100003.0,1.0]|2.7069969261729114|\n",
      "|     [100003.0,0.25]|2.1970935895524675|\n",
      "|      [100004.0,1.0]|2.7069969261729114|\n",
      "|      [100005.0,1.0]|2.7069969261729114|\n",
      "|     [100005.0,0.75]|2.4352738947342947|\n",
      "|      [100006.0,0.5]|2.4106011861277867|\n",
      "|[100006.0,0.66666...|2.4106011861277867|\n",
      "|[100008.0,0.66666...|2.4106011861277867|\n",
      "|[100009.0,0.66666...|2.4106011861277867|\n",
      "|      [100009.0,0.0]|2.2012979745493633|\n",
      "|      [100010.0,0.5]|2.4106011861277867|\n",
      "|      [100010.0,0.0]|2.2012979745493633|\n",
      "|      [100010.0,0.0]|2.2012979745493633|\n",
      "+--------------------+------------------+\n",
      "only showing top 20 rows\n",
      "\n"
     ]
    }
   ],
   "source": [
    "pred.show()"
   ]
  },
  {
   "cell_type": "code",
   "execution_count": 29,
   "metadata": {},
   "outputs": [
    {
     "data": {
      "text/html": [
       "<div>\n",
       "<table border=\"1\" class=\"dataframe\">\n",
       "  <thead>\n",
       "    <tr style=\"text-align: right;\">\n",
       "      <th></th>\n",
       "      <th>predictedLabel</th>\n",
       "    </tr>\n",
       "  </thead>\n",
       "  <tbody>\n",
       "    <tr>\n",
       "      <th>0</th>\n",
       "      <td>2.201298</td>\n",
       "    </tr>\n",
       "    <tr>\n",
       "      <th>1</th>\n",
       "      <td>2.324435</td>\n",
       "    </tr>\n",
       "    <tr>\n",
       "      <th>2</th>\n",
       "      <td>2.324435</td>\n",
       "    </tr>\n",
       "    <tr>\n",
       "      <th>3</th>\n",
       "      <td>2.410601</td>\n",
       "    </tr>\n",
       "    <tr>\n",
       "      <th>4</th>\n",
       "      <td>2.435274</td>\n",
       "    </tr>\n",
       "  </tbody>\n",
       "</table>\n",
       "</div>"
      ],
      "text/plain": [
       "   predictedLabel\n",
       "0        2.201298\n",
       "1        2.324435\n",
       "2        2.324435\n",
       "3        2.410601\n",
       "4        2.435274"
      ]
     },
     "execution_count": 29,
     "metadata": {},
     "output_type": "execute_result"
    }
   ],
   "source": [
    "pred=pred.drop('features')\n",
    "prediction=pred.toPandas()\n",
    "prediction.head()"
   ]
  },
  {
   "cell_type": "markdown",
   "metadata": {},
   "source": [
    "## 5.3 Metrics\n",
    "As I am working with Random Forest regression model, the following metrics where calculated:\n",
    "-Root Mean Squared Error (RMSE)\n",
    "-Mean Squared Error(MSE)\n",
    "-R2\n",
    "-Mean Absolute Error (MAE)\n",
    "\n",
    "For this first I proceed to divide the training data into a training and validation set divided in 80%-20%. Then I train the model over the training sample and apply the training random forest over the validation set.\n",
    "As we can observe bellow the RMSE for my implementation is 0.50106, which is very similar to the kaggle score as their system uses the same metrics."
   ]
  },
  {
   "cell_type": "code",
   "execution_count": 40,
   "metadata": {
    "collapsed": true
   },
   "outputs": [],
   "source": [
    "(train_metrics, test_metrics) = train.randomSplit([0.8, 0.2])"
   ]
  },
  {
   "cell_type": "code",
   "execution_count": 41,
   "metadata": {
    "collapsed": true
   },
   "outputs": [],
   "source": [
    "# Define Random forest characteristics\n",
    "rf = RandomForestRegressor(featuresCol=\"features\", labelCol=\"relevance\", predictionCol=\"predictedLabel\", numTrees=10)\n",
    "\n",
    "# Train the model\n",
    "model_metrics = rf.fit(train_metrics)\n",
    "\n",
    "# Predict the test data\n",
    "pred_metrics = model_metrics.transform(test_metrics)"
   ]
  },
  {
   "cell_type": "markdown",
   "metadata": {},
   "source": [
    "Display of Model Metrics:"
   ]
  },
  {
   "cell_type": "code",
   "execution_count": 43,
   "metadata": {},
   "outputs": [
    {
     "name": "stdout",
     "output_type": "stream",
     "text": [
      "MODEL METRICS\n",
      "==========================================================\n",
      "Model: Root Mean Squared Error = 0.501064981617\n",
      "Model: Mean Squared Error = 0.251066115803\n",
      "Model: R^2 metric = 0.116036366156\n",
      "Model: Mean Absolute Error = 0.408203437254\n",
      "==========================================================\n"
     ]
    }
   ],
   "source": [
    "from pyspark.ml.evaluation import RegressionEvaluator\n",
    "evaluator = RegressionEvaluator(metricName=\"rmse\", labelCol=\"relevance\", predictionCol=\"predictedLabel\")\n",
    "RMSE = evaluator.evaluate(pred_metrics)\n",
    "print(\"MODEL METRICS\")\n",
    "print(\"==========================================================\")\n",
    "print(\"Model: Root Mean Squared Error = \" + str(RMSE))\n",
    "evaluator = RegressionEvaluator(metricName=\"mse\", labelCol=\"relevance\", predictionCol=\"predictedLabel\")\n",
    "MSE = evaluator.evaluate(pred_metrics)\n",
    "print(\"Model: Mean Squared Error = \" + str(MSE))\n",
    "evaluator = RegressionEvaluator(metricName=\"r2\", labelCol=\"relevance\", predictionCol=\"predictedLabel\")\n",
    "R2 = evaluator.evaluate(pred_metrics)\n",
    "print(\"Model: R^2 metric = \" + str(R2))\n",
    "evaluator = RegressionEvaluator(metricName=\"mae\", labelCol=\"relevance\", predictionCol=\"predictedLabel\")\n",
    "MAE = evaluator.evaluate(pred_metrics)\n",
    "print(\"Model: Mean Absolute Error = \" + str(MAE))\n",
    "print(\"==========================================================\")"
   ]
  },
  {
   "cell_type": "markdown",
   "metadata": {},
   "source": [
    "Save predictions"
   ]
  },
  {
   "cell_type": "code",
   "execution_count": null,
   "metadata": {
    "collapsed": true
   },
   "outputs": [],
   "source": [
    "prediction.to_csv(\"results.csv\",sep=\"\\n\",encoding=\"utf-8\")"
   ]
  },
  {
   "cell_type": "markdown",
   "metadata": {},
   "source": [
    "## 6) Conclusion\n",
    "One of the most important points I learned through this challenge is the importance of the pre-processing of the data as well as the analysis before starting with feature engineering, this allow to consider which features will be critical for the model, how can we organize the data to extract decisive information.\n",
    "\n"
   ]
  },
  {
   "cell_type": "markdown",
   "metadata": {},
   "source": [
    "In the feature engineering step, I believe that the challenge allow us to form a interpretation criteria and formulate valid hypothesis to approach the problem. It is important to mention that even thought there exist several sophisticated libraries to implement text analysis, it is also important to consider custom solutions that adapt better to the problem. In this case the computation of a match percentage improved the error drastically.\n"
   ]
  },
  {
   "cell_type": "markdown",
   "metadata": {},
   "source": [
    "For future work I would like to implement the wordnet dictionary for synonym examination and use them in the search term, title and product description. Another interesting approach I would like to implement in the future is the unigram and bigram match and similarity from the nltk library. Also other type of regression models could be implemented at the future to compare possible improvements."
   ]
  },
  {
   "cell_type": "markdown",
   "metadata": {},
   "source": [
    "## 7) Reference\n",
    "\n",
    "https://www.kaggle.com/c/home-depot-product-search-relevance"
   ]
  },
  {
   "cell_type": "code",
   "execution_count": null,
   "metadata": {
    "collapsed": true
   },
   "outputs": [],
   "source": []
  }
 ],
 "metadata": {
  "kernelspec": {
   "display_name": "Python 3",
   "language": "python",
   "name": "python3"
  },
  "language_info": {
   "codemirror_mode": {
    "name": "ipython",
    "version": 3
   },
   "file_extension": ".py",
   "mimetype": "text/x-python",
   "name": "python",
   "nbconvert_exporter": "python",
   "pygments_lexer": "ipython3",
   "version": "3.6.1"
  }
 },
 "nbformat": 4,
 "nbformat_minor": 1
}
